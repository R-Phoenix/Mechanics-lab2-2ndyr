{
 "metadata": {
  "language_info": {
   "codemirror_mode": {
    "name": "ipython",
    "version": 3
   },
   "file_extension": ".py",
   "mimetype": "text/x-python",
   "name": "python",
   "nbconvert_exporter": "python",
   "pygments_lexer": "ipython3",
   "version": "3.9.0"
  },
  "orig_nbformat": 2,
  "kernelspec": {
   "name": "python390jvsc74a57bd0ac59ebe37160ed0dfa835113d9b8498d9f09ceb179beaac4002f036b9467c963",
   "display_name": "Python 3.9.0 64-bit"
  },
  "metadata": {
   "interpreter": {
    "hash": "ac59ebe37160ed0dfa835113d9b8498d9f09ceb179beaac4002f036b9467c963"
   }
  }
 },
 "nbformat": 4,
 "nbformat_minor": 2,
 "cells": [
  {
   "cell_type": "code",
   "execution_count": null,
   "metadata": {},
   "outputs": [],
   "source": [
    "import matplotlib.pyplot as plt \n",
    "import numpy as np \n",
    "from mpl_toolkits import mplot3d"
   ]
  },
  {
   "cell_type": "code",
   "execution_count": null,
   "metadata": {},
   "outputs": [],
   "source": [
    "m = float(input(\"Enter the mass : \"))\n",
    "k = float(input(\"Enter the spring constant : \"))\n",
    "e = [0.0,0.1,0.2,0.3,0.4,0.5]\n",
    "x0 = float(input(\"Enter the initial position x : \"))\n",
    "v0 = float(input(\"Enter the initial velocity : \"))\n",
    "h=0.01\n",
    "Xf=[]\n",
    "Vf=[]"
   ]
  },
  {
   "cell_type": "code",
   "execution_count": null,
   "metadata": {},
   "outputs": [],
   "source": [
    "def g(x,v,t,ef):\n",
    "    return float((ef*(x**3)/m)-((k/m)*x))\n",
    "def f(x,v,t):\n",
    "    return v"
   ]
  },
  {
   "cell_type": "code",
   "execution_count": null,
   "metadata": {},
   "outputs": [],
   "source": [
    "x = np.linspace(-2,2,1000)\n",
    "for i in e:\n",
    "    V = m*((0.5*k*(x**2)) - (0.25*i*(x**4)))\n",
    "    plt.plot(x,V,label='e = {}'.format(i))\n",
    "plt.ylabel(\"Potential (V)\")\n",
    "plt.xlabel(\"Distance (x)\")\n",
    "plt.title(\"Potential Plot\")\n",
    "plt.legend()\n",
    "plt.show()"
   ]
  },
  {
   "cell_type": "code",
   "execution_count": null,
   "metadata": {},
   "outputs": [],
   "source": [
    "for i in e:\n",
    "    x = x0\n",
    "    v = v0\n",
    "    t = 0.0\n",
    "    X=[x]\n",
    "    T=[t]\n",
    "    for j in range (200):\n",
    "        k1 = h*f(x,v,t)\n",
    "        k2 = h*f(x+(k1/2),v,t+(h/2))\n",
    "        k3 = h*f(x+(k2/2),v,t+(h/2))\n",
    "        k4 = h*f(x+k3,v,t+h)\n",
    "        x += (k1+(2*k2)+(2*k3)+k4)/6\n",
    "        t+=h\n",
    "        v += g(x,v,t,i)\n",
    "        X.append(x)\n",
    "        T.append(t)\n",
    "    Xf.append(X)\n",
    "    plt.plot(T,X,label='e = {}'.format(i))\n",
    "plt.ylabel(\"Displacement (x)\")\n",
    "plt.xlabel(\"Time (t)\")\n",
    "plt.title(\"Displacement vs Time graph\")\n",
    "plt.legend()\n",
    "plt.show()"
   ]
  },
  {
   "cell_type": "code",
   "execution_count": null,
   "metadata": {},
   "outputs": [],
   "source": [
    "for i in e:\n",
    "    x = x0\n",
    "    v = v0\n",
    "    t = 0.0\n",
    "    T=[t]\n",
    "    V=[v]\n",
    "    for j in range (200):\n",
    "        k1 = h*g(x,v,t,i)\n",
    "        k2 = h*g(x,v+(k1/2),t+(h/2),i)\n",
    "        k3 = h*g(x,v+(k2/2),t+(h/2),i)\n",
    "        k4 = h*g(x,v+k3,t+h,i)\n",
    "        v += (k1+(2*k2)+(2*k3)+k4)/6\n",
    "        t += h\n",
    "        x += f(x,v,t)\n",
    "        T.append(t)\n",
    "        V.append(v)\n",
    "    Vf.append(V)\n",
    "    plt.plot(T,V,label='e = {}'.format(i))\n",
    "plt.ylabel(\"Velocity (x)\")\n",
    "plt.xlabel(\"Time (t)\")\n",
    "plt.title(\"Velocity vs Time graph\")\n",
    "plt.legend()\n",
    "plt.show()"
   ]
  },
  {
   "cell_type": "code",
   "execution_count": null,
   "metadata": {},
   "outputs": [],
   "source": [
    "for i in range (6):\n",
    "    plt.plot(Vf[i],Xf[i], label=\"e = {}\".format(e[i]))\n",
    "plt.legend()\n",
    "plt.show()"
   ]
  }
 ]
}