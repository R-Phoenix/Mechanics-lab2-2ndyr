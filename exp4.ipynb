{
 "cells": [
  {
   "cell_type": "code",
   "execution_count": null,
   "source": [
    "import matplotlib.pyplot as plt \r\n",
    "import numpy as np \r\n",
    "from mpl_toolkits import mplot3d\r\n",
    "from scipy.integrate import odeint\r\n",
    "import math"
   ],
   "outputs": [],
   "metadata": {}
  },
  {
   "cell_type": "code",
   "execution_count": null,
   "source": [
    "M = float(input(\"Mass of the star (M) : \"))\r\n",
    "r = float(input(\"Distance of the planet from the star(at 0 radians) : \"))\r\n",
    "G = 6.67408e-11\r\n",
    "v_escape = ((2*G*M)/r)**0.5\r\n",
    "w0 = (float(input(\"Enter the projection velocity w.r.t. escape velocity : \")))*v_escape\r\n",
    "u0 = [r,0.0,0.0,w0]\r\n",
    "T = ((4*(np.pi**2)*(r**3))/(G*M))**0.5\r\n",
    "t = np.linspace(0,T,1000)"
   ],
   "outputs": [],
   "metadata": {}
  },
  {
   "cell_type": "code",
   "execution_count": null,
   "source": [
    "def planetary_motion(u,t) :\r\n",
    "    r = u[0]\r\n",
    "    a = u[1]\r\n",
    "    v = u[2]\r\n",
    "    w = u[3]\r\n",
    "    drdt = v\r\n",
    "    dadt = w\r\n",
    "    dvdt = (r*(w**2))-(G*M/(r**2))\r\n",
    "    dwdt = - (2*v*w)/r\r\n",
    "    return [drdt,dadt,dvdt,dwdt]"
   ],
   "outputs": [],
   "metadata": {}
  },
  {
   "cell_type": "code",
   "execution_count": null,
   "source": [
    "sol = odeint(planetary_motion,u0,t)\r\n",
    "a = sol[ : ,1]*180/np.pi\r\n",
    "r = sol[ : ,0]\r\n",
    "plt.polar(a,r)\r\n",
    "plt.show()"
   ],
   "outputs": [],
   "metadata": {}
  }
 ],
 "metadata": {
  "orig_nbformat": 4,
  "language_info": {
   "name": "python",
   "version": "3.9.0",
   "mimetype": "text/x-python",
   "codemirror_mode": {
    "name": "ipython",
    "version": 3
   },
   "pygments_lexer": "ipython3",
   "nbconvert_exporter": "python",
   "file_extension": ".py"
  },
  "kernelspec": {
   "name": "python3",
   "display_name": "Python 3.9.0 64-bit"
  },
  "interpreter": {
   "hash": "ac59ebe37160ed0dfa835113d9b8498d9f09ceb179beaac4002f036b9467c963"
  }
 },
 "nbformat": 4,
 "nbformat_minor": 2
}