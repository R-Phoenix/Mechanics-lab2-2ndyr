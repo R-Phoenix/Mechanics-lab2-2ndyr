{
 "cells": [
  {
   "cell_type": "code",
   "execution_count": null,
   "source": [
    "import matplotlib.pyplot as plt \r\n",
    "import numpy as np \r\n",
    "from mpl_toolkits import mplot3d\r\n",
    "from scipy.integrate import odeint\r\n",
    "import math"
   ],
   "outputs": [],
   "metadata": {}
  },
  {
   "cell_type": "code",
   "execution_count": null,
   "source": [
    "k = float(input(\"Enter the Force constant : \"))\r\n",
    "m = float(input(\"Reduced mass of the particle : \"))\r\n",
    "r0 = float(input(\"radial distance : \"))\r\n",
    "w0 = float(input(\"Initial angular momentum : \"))\r\n",
    "u0 = [r0,0,0,w0]\r\n",
    "T = \r\n",
    "t = np.linspace(0,1000,10000)"
   ],
   "outputs": [],
   "metadata": {}
  },
  {
   "cell_type": "code",
   "execution_count": null,
   "source": [
    "def trajectory (u,t) :\r\n",
    "    r = u[0]\r\n",
    "    a = u[1]\r\n",
    "    v = u[2]\r\n",
    "    w = u[3]\r\n",
    "    drdt = v\r\n",
    "    dadt = w\r\n",
    "    dvdt = (r*(w**2))- (k/(m*(r**2)))\r\n",
    "    dwdt = - (2*v*w)/r\r\n",
    "    return [drdt,dadt,dvdt,dwdt]"
   ],
   "outputs": [],
   "metadata": {}
  },
  {
   "cell_type": "code",
   "execution_count": null,
   "source": [
    "sol = odeint(trajectory,u0,t)\r\n",
    "plt.polar(sol[ : ,1],sol[ : ,0])\r\n",
    "plt.ylim(0,5)\r\n",
    "plt.show()"
   ],
   "outputs": [],
   "metadata": {}
  }
 ],
 "metadata": {
  "orig_nbformat": 4,
  "language_info": {
   "name": "python",
   "version": "3.9.0",
   "mimetype": "text/x-python",
   "codemirror_mode": {
    "name": "ipython",
    "version": 3
   },
   "pygments_lexer": "ipython3",
   "nbconvert_exporter": "python",
   "file_extension": ".py"
  },
  "kernelspec": {
   "name": "python3",
   "display_name": "Python 3.9.0 64-bit"
  },
  "interpreter": {
   "hash": "ac59ebe37160ed0dfa835113d9b8498d9f09ceb179beaac4002f036b9467c963"
  }
 },
 "nbformat": 4,
 "nbformat_minor": 2
}