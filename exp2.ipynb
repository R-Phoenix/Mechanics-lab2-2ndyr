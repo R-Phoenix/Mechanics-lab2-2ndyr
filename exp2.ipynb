{
 "metadata": {
  "language_info": {
   "codemirror_mode": {
    "name": "ipython",
    "version": 3
   },
   "file_extension": ".py",
   "mimetype": "text/x-python",
   "name": "python",
   "nbconvert_exporter": "python",
   "pygments_lexer": "ipython3",
   "version": "3.9.0"
  },
  "orig_nbformat": 2,
  "kernelspec": {
   "name": "python3",
   "display_name": "Python 3.9.0 64-bit"
  },
  "metadata": {
   "interpreter": {
    "hash": "ac59ebe37160ed0dfa835113d9b8498d9f09ceb179beaac4002f036b9467c963"
   }
  },
  "interpreter": {
   "hash": "ac59ebe37160ed0dfa835113d9b8498d9f09ceb179beaac4002f036b9467c963"
  }
 },
 "nbformat": 4,
 "nbformat_minor": 2,
 "cells": [
  {
   "cell_type": "code",
   "execution_count": null,
   "source": [
    "import matplotlib.pyplot as plt \r\n",
    "import numpy as np \r\n",
    "from mpl_toolkits import mplot3d"
   ],
   "outputs": [],
   "metadata": {}
  },
  {
   "cell_type": "code",
   "execution_count": null,
   "source": [
    "omega = float(input(\"Enter the value of \\u03C9 : \"))\r\n",
    "gamma = float(input(\"Enter the damping factor (\\u03B3): \"))\r\n",
    "e = [0.00,0.01,0.02,0.03,0.04]\r\n",
    "x0 = float(input(\"Enter the initial position x : \"))\r\n",
    "v0 = float(input(\"Enter the initial velocity : \"))\r\n",
    "h=0.001\r\n",
    "Xf=[]\r\n",
    "Vf=[]\r\n",
    "Af=[]\r\n",
    "T=[0.0]"
   ],
   "outputs": [],
   "metadata": {}
  },
  {
   "cell_type": "code",
   "execution_count": null,
   "source": [
    "def g (x,v,t,ef):\r\n",
    "    return (-(2*gamma*v)-((omega**2)*x)-(2*ef*(v**2)))\r\n",
    "def f (x,v,t):\r\n",
    "    return v"
   ],
   "outputs": [],
   "metadata": {}
  },
  {
   "cell_type": "code",
   "execution_count": null,
   "source": [
    "for i in e:\r\n",
    "    x = x0\r\n",
    "    v = v0\r\n",
    "    t = 0.0\r\n",
    "    X=[x]\r\n",
    "    V=[v]\r\n",
    "    A=[g(x,v,t,i)]\r\n",
    "    for j in range (50000):\r\n",
    "        k1 = h*f(x,v,t)\r\n",
    "        k2 = h*f(x+(k1/2),v,t+(h/2))\r\n",
    "        k3 = h*f(x+(k2/2),v,t+(h/2))\r\n",
    "        k4 = h*f(x+k3,v,t+h)\r\n",
    "        x += (k1+(2*k2)+(2*k3)+k4)/6\r\n",
    "        k1 = h*g(x,v,t,i)\r\n",
    "        k2 = h*g(x,v+(k1/2),t+(h/2),i)\r\n",
    "        k3 = h*g(x,v+(k2/2),t+(h/2),i)\r\n",
    "        k4 = h*g(x,v+k3,t+h,i)\r\n",
    "        v += (k1+(2*k2)+(2*k3)+k4)/6\r\n",
    "        t+=h\r\n",
    "        X.append(x)\r\n",
    "        V.append(v)\r\n",
    "        A.append(g(x,v,t,i))\r\n",
    "    Xf.append(X)\r\n",
    "    Vf.append(V)\r\n",
    "    Af.append(A)\r\n",
    "t=0\r\n",
    "for j in range (50000):\r\n",
    "    t+=h\r\n",
    "    T.append(t)"
   ],
   "outputs": [],
   "metadata": {}
  },
  {
   "cell_type": "code",
   "execution_count": null,
   "source": [
    "for i in range (5):\r\n",
    "    plt.plot (T,Xf[i], label=\"\\u03B3={0},\\u03C9={1},\\u03B5={2}\".format(gamma,omega,e[i]))\r\n",
    "plt.xlabel(\"Time(t)\")\r\n",
    "plt.ylabel(\"Displacement(x)\")\r\n",
    "plt.title(\"Displacement vs Time graph\")\r\n",
    "plt.axhline(c='k',lw='0.5')\r\n",
    "plt.axvline(c='k',lw='0.5')\r\n",
    "plt.legend()\r\n",
    "plt.show()"
   ],
   "outputs": [],
   "metadata": {}
  },
  {
   "cell_type": "code",
   "execution_count": null,
   "source": [
    "for i in range (5):\r\n",
    "    plt.plot (T,Vf[i], label=\"\\u03B3={0},\\u03C9={1},\\u03B5={2}\".format(gamma,omega,e[i]))\r\n",
    "plt.xlabel(\"Time(t)\")\r\n",
    "plt.ylabel(\"Velocity(x)\")\r\n",
    "plt.title(\"Velocity vs Time graph\")\r\n",
    "plt.axhline(c='k',lw='0.5')\r\n",
    "plt.axvline(c='k',lw='0.5')\r\n",
    "plt.xlim(0,5)\r\n",
    "plt.legend()\r\n",
    "plt.show()"
   ],
   "outputs": [],
   "metadata": {}
  },
  {
   "cell_type": "code",
   "execution_count": null,
   "source": [
    "for i in range (5):\r\n",
    "    plt.plot (T,Af[i], label=\"\\u03B3={0},\\u03C9={1},\\u03B5={2}\".format(gamma,omega,e[i]))\r\n",
    "plt.xlabel(\"Time(t)\")\r\n",
    "plt.ylabel(\"Acceleration(x)\")\r\n",
    "plt.title(\"Acceleration vs Time graph\")\r\n",
    "plt.axhline(c='k',lw='0.5')\r\n",
    "plt.axvline(c='k',lw='0.5')\r\n",
    "plt.xlim(0,5)\r\n",
    "plt.legend()\r\n",
    "plt.show()"
   ],
   "outputs": [],
   "metadata": {}
  },
  {
   "cell_type": "code",
   "execution_count": null,
   "source": [
    "for i in range (5):\r\n",
    "    plt.plot (Xf[i],Vf[i], label=\"\\u03B3={0},\\u03C9={1},\\u03B5={2}\".format(gamma,omega,e[i]))\r\n",
    "plt.xlabel(\"Displacement(x)\")\r\n",
    "plt.ylabel(\"Velocity(v)\")\r\n",
    "plt.title(\"Phase space graph\")\r\n",
    "plt.axhline(c='k',lw='0.5')\r\n",
    "plt.axvline(c='k',lw='0.5')\r\n",
    "plt.legend()\r\n",
    "plt.show()"
   ],
   "outputs": [],
   "metadata": {}
  }
 ]
}