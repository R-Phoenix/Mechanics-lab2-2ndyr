{
 "cells": [
  {
   "cell_type": "code",
   "execution_count": null,
   "source": [
    "import matplotlib.pyplot as plt \r\n",
    "import numpy as np \r\n",
    "from mpl_toolkits import mplot3d"
   ],
   "outputs": [],
   "metadata": {}
  },
  {
   "cell_type": "code",
   "execution_count": null,
   "source": [
    "length = float(input(\"Length of the Foucalt pendulum (L) : \"))\r\n",
    "earth_timeperiod = 24*3600\r\n",
    "latitude = float(input(\"Enter the latitude of the region(in degrees) : \"))*(np.pi/180)\r\n",
    "earth = (2*np.pi*np.sin(latitude))/earth_timeperiod\r\n",
    "omega = (9.81/length)**0.5\r\n",
    "x0 = float(input(\"Enter initial value of x :\"))\r\n",
    "y0 = float(input(\"Enter initial value of y :\"))\r\n",
    "pendulum_timeperiod = 2*np.pi/omega\r\n",
    "n = int((pendulum_timeperiod*10)*earth_timeperiod)\r\n",
    "h = float(1.0/n)"
   ],
   "outputs": [],
   "metadata": {}
  },
  {
   "cell_type": "code",
   "execution_count": null,
   "source": [
    "def fx (x, vx) :\r\n",
    "    return ((-(omega**2)*x)+(earth*vx))\r\n",
    "def fy (y, vy) :\r\n",
    "    return ((-(omega**2)*y)-(earth*vy))\r\n",
    "def gx (x, vx) :\r\n",
    "    return vx\r\n",
    "def gy (y, vy) :\r\n",
    "    return vy"
   ],
   "outputs": [],
   "metadata": {}
  },
  {
   "cell_type": "code",
   "execution_count": null,
   "source": [
    "def rk4 (u0, vu0, f, g) :\r\n",
    "    u_i = u0\r\n",
    "    vu_i = vu0\r\n",
    "    u = [u0]\r\n",
    "    vu = [vu0]\r\n",
    "    for i in range (n):\r\n",
    "        k1 = h*g(u_i,vu_i)\r\n",
    "        k2 = h*g(u_i+(k1/2),vu_i)\r\n",
    "        k3 = h*g(u_i+(k2/2),vu_i)\r\n",
    "        k4 = h*g(u_i+k3,vu_i)\r\n",
    "        u_i += (k1+(2*k2)+(2*k3)+k4)/6\r\n",
    "        k1 = h*f(u_i,vu_i)\r\n",
    "        k2 = h*f(u_i,vu_i+(k1/2))\r\n",
    "        k3 = h*f(u_i,vu_i+(k2/2))\r\n",
    "        k4 = h*f(u_i,vu_i+k3)\r\n",
    "        vu_i += (k1+(2*k2)+(2*k3)+k4)/6\r\n",
    "        u.append(u_i)\r\n",
    "        vu.append(vu_i)\r\n",
    "    return u"
   ],
   "outputs": [],
   "metadata": {}
  },
  {
   "cell_type": "code",
   "execution_count": null,
   "source": [
    "x = (rk4(x0, 0, fx, gx))\r\n",
    "y = (rk4(y0, 0, fy, gy))\r\n",
    "plt.plot(x,y)\r\n",
    "plt.show()"
   ],
   "outputs": [],
   "metadata": {}
  }
 ],
 "metadata": {
  "orig_nbformat": 4,
  "language_info": {
   "name": "python",
   "version": "3.9.0",
   "mimetype": "text/x-python",
   "codemirror_mode": {
    "name": "ipython",
    "version": 3
   },
   "pygments_lexer": "ipython3",
   "nbconvert_exporter": "python",
   "file_extension": ".py"
  },
  "kernelspec": {
   "name": "python3",
   "display_name": "Python 3.9.0 64-bit"
  },
  "interpreter": {
   "hash": "ac59ebe37160ed0dfa835113d9b8498d9f09ceb179beaac4002f036b9467c963"
  }
 },
 "nbformat": 4,
 "nbformat_minor": 2
}