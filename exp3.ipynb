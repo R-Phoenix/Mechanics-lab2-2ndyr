{
 "cells": [
  {
   "cell_type": "code",
   "execution_count": null,
   "source": [
    "import matplotlib.pyplot as plt \r\n",
    "import numpy as np \r\n",
    "from mpl_toolkits import mplot3d\r\n",
    "from scipy.integrate import odeint\r\n",
    "import math"
   ],
   "outputs": [],
   "metadata": {}
  },
  {
   "cell_type": "code",
   "execution_count": null,
   "source": [
    "length = float(input(\"Length of the Foucalt pendulum (L) : \"))\r\n",
    "earth_timeperiod = 24*3600\r\n",
    "latitude = float(input(\"Enter the latitude of the region(in degrees) : \"))*(np.pi/180)\r\n",
    "earth = ((2*np.pi*np.sin(latitude))/earth_timeperiod) #the coriolis factor ....multiply this part for better results\r\n",
    "omega = (9.81/length)**0.5\r\n",
    "x0 = float(input(\"Enter initial value of x :\"))\r\n",
    "y0 = float(input(\"Enter initial value of y :\"))\r\n",
    "pendulum_timeperiod = 2*np.pi/omega\r\n",
    "n = int(pendulum_timeperiod*earth_timeperiod)+1\r\n",
    "t = np.linspace(0,math.ceil(pendulum_timeperiod)*50,500) #time taken for 50 oscillation...\r\n",
    "u0 = [x0,0,y0,0]"
   ],
   "outputs": [],
   "metadata": {}
  },
  {
   "cell_type": "code",
   "execution_count": null,
   "source": [
    "def f(u,t) :\r\n",
    "    x = u[0]\r\n",
    "    y = u[2]\r\n",
    "    vx = u[1]\r\n",
    "    vy = u[3]\r\n",
    "    dxdt = vx\r\n",
    "    dydt = vy\r\n",
    "    dvxdt = ((-(omega**2)*x)+(earth*vy))\r\n",
    "    dvydt = ((-(omega**2)*y)-(earth*vx))\r\n",
    "    return [dxdt,dvxdt,dydt,dvydt]"
   ],
   "outputs": [],
   "metadata": {}
  },
  {
   "cell_type": "code",
   "execution_count": null,
   "source": [
    "sol = odeint(f,u0,t)\r\n",
    "plt.plot(sol[ : ,0],sol[ : ,2])\r\n",
    "plt.xlabel('X')\r\n",
    "plt.ylabel('Y')\r\n",
    "plt.title('Foucault Pendulum (50 oscillation)')\r\n",
    "plt.show()"
   ],
   "outputs": [],
   "metadata": {}
  }
 ],
 "metadata": {
  "orig_nbformat": 4,
  "language_info": {
   "name": "python",
   "version": "3.9.0",
   "mimetype": "text/x-python",
   "codemirror_mode": {
    "name": "ipython",
    "version": 3
   },
   "pygments_lexer": "ipython3",
   "nbconvert_exporter": "python",
   "file_extension": ".py"
  },
  "kernelspec": {
   "name": "python3",
   "display_name": "Python 3.9.0 64-bit"
  },
  "interpreter": {
   "hash": "ac59ebe37160ed0dfa835113d9b8498d9f09ceb179beaac4002f036b9467c963"
  }
 },
 "nbformat": 4,
 "nbformat_minor": 2
}